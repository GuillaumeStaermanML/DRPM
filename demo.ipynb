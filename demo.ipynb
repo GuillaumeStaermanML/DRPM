{
 "cells": [
  {
   "cell_type": "code",
   "execution_count": 2,
   "metadata": {},
   "outputs": [],
   "source": [
    "import numpy as np\n",
    "import time\n",
    "\n",
    "from DRPM import DRPM"
   ]
  },
  {
   "cell_type": "code",
   "execution_count": 33,
   "metadata": {},
   "outputs": [],
   "source": [
    "n_samples = 1000\n",
    "n_features = 10\n",
    "\n",
    "X = np.random.randn(n_samples, n_features)\n",
    "Y = np.random.randn(n_samples, n_features) + 10"
   ]
  },
  {
   "cell_type": "code",
   "execution_count": 36,
   "metadata": {},
   "outputs": [
    {
     "name": "stdout",
     "output_type": "stream",
     "text": [
      "27.55745828099691\n",
      "CPU times: user 1.34 s, sys: 265 ms, total: 1.6 s\n",
      "Wall time: 205 ms\n"
     ]
    }
   ],
   "source": [
    "%%time\n",
    "\n",
    "eps = 0.1            #Epsilon in the paper, it tunes the robustness of the metric.\n",
    "n_alpha = 10         #Number of level sets. \n",
    "n_proj = 1000        #Number of projections to approximate depth functions.\n",
    "chosen_depth = 'irw' #The chosen depth function in {'tukey', 'irw', 'ai_irw', 'projection'}.\n",
    "\n",
    "\n",
    "distance = DRPM(X, Y, eps_min=eps, n_alpha=n_alpha, n_dirs=n_proj, data_depth=chosen_depth)\n",
    "print(distance)"
   ]
  }
 ],
 "metadata": {
  "kernelspec": {
   "display_name": "Python 3",
   "language": "python",
   "name": "python3"
  },
  "language_info": {
   "codemirror_mode": {
    "name": "ipython",
    "version": 3
   },
   "file_extension": ".py",
   "mimetype": "text/x-python",
   "name": "python",
   "nbconvert_exporter": "python",
   "pygments_lexer": "ipython3",
   "version": "3.7.4"
  }
 },
 "nbformat": 4,
 "nbformat_minor": 2
}
